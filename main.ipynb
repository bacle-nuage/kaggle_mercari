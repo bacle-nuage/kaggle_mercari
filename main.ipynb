{
  "nbformat": 4,
  "nbformat_minor": 0,
  "metadata": {
    "colab": {
      "name": "Untitled0.ipynb",
      "provenance": [],
      "include_colab_link": true
    },
    "kernelspec": {
      "name": "python3",
      "display_name": "Python 3"
    }
  },
  "cells": [
    {
      "cell_type": "markdown",
      "metadata": {
        "id": "view-in-github",
        "colab_type": "text"
      },
      "source": [
        "<a href=\"https://colab.research.google.com/github/you0229/kaggle_mercari/blob/master/main.ipynb\" target=\"_parent\"><img src=\"https://colab.research.google.com/assets/colab-badge.svg\" alt=\"Open In Colab\"/></a>"
      ]
    },
    {
      "cell_type": "code",
      "metadata": {
        "id": "Kw9Y8u3GJ4AW",
        "colab_type": "code",
        "outputId": "02d5a9bb-e062-46ae-9a02-ad5f90b69ba0",
        "colab": {
          "base_uri": "https://localhost:8080/",
          "height": 122
        }
      },
      "source": [
        "from google.colab import drive\n",
        "drive.mount('/content/drive')"
      ],
      "execution_count": 2,
      "outputs": [
        {
          "output_type": "stream",
          "text": [
            "Go to this URL in a browser: https://accounts.google.com/o/oauth2/auth?client_id=947318989803-6bn6qk8qdgf4n4g3pfee6491hc0brc4i.apps.googleusercontent.com&redirect_uri=urn%3aietf%3awg%3aoauth%3a2.0%3aoob&response_type=code&scope=email%20https%3a%2f%2fwww.googleapis.com%2fauth%2fdocs.test%20https%3a%2f%2fwww.googleapis.com%2fauth%2fdrive%20https%3a%2f%2fwww.googleapis.com%2fauth%2fdrive.photos.readonly%20https%3a%2f%2fwww.googleapis.com%2fauth%2fpeopleapi.readonly\n",
            "\n",
            "Enter your authorization code:\n",
            "··········\n",
            "Mounted at /content/drive\n"
          ],
          "name": "stdout"
        }
      ]
    },
    {
      "cell_type": "code",
      "metadata": {
        "id": "chedBEIqJ-Ds",
        "colab_type": "code",
        "colab": {}
      },
      "source": [
        "import pandas as pd\n",
        "from sklearn.ensemble import RandomForestRegressor, RandomForestClassifier\n",
        "from IPython.display import display\n",
        "from sklearn import metrics\n",
        "from sklearn.model_selection import train_test_split\n",
        "pd.set_option('display.float_format', lambda x:'%.5f' % x)\n",
        "import numpy as np\n"
      ],
      "execution_count": 0,
      "outputs": []
    },
    {
      "cell_type": "code",
      "metadata": {
        "id": "88nfxDnAKVRt",
        "colab_type": "code",
        "colab": {}
      },
      "source": [
        "# データタイプを指定\n",
        "types_dict_train = {'train_id':'int64', 'item_condition_id':'int8', 'price':'float64', 'shipping':'int8'}\n",
        "types_dict_test = {'test_id':'int64', 'item_condition_id':'int8', 'shipping':'int8'}\n",
        "# tsvファイルからPandas DataFrameへ読み込み\n",
        "train_path = '/content/drive/My Drive/MachineLeaning/kaggle_mercari/train.tsv'\n",
        "test_path = '/content/drive/My Drive/MachineLeaning/kaggle_mercari/test.tsv'\n",
        "train = pd.read_csv(train_path, delimiter='\\t', low_memory=True, dtype=types_dict_train)\n",
        "test = pd.read_csv(test_path, delimiter='\\t', low_memory=True, dtype=types_dict_test)\n"
      ],
      "execution_count": 0,
      "outputs": []
    },
    {
      "cell_type": "code",
      "metadata": {
        "id": "b4QUKMBsPiqh",
        "colab_type": "code",
        "outputId": "5884df34-dafd-4594-a114-3357d0770b77",
        "colab": {
          "base_uri": "https://localhost:8080/",
          "height": 925
        }
      },
      "source": [
        "# trainとtestのデータフレームの冒頭5行を表示させる\n",
        "print('#' * 5 + 'train data' + '#' * 5)\n",
        "display(train.head())\n",
        "print('#' * 5 + 'test data' + '#' * 5)\n",
        "display(test.head())\n",
        "# trainとtestのサイズを確認\n",
        "train.shape, test.shape\n"
      ],
      "execution_count": 5,
      "outputs": [
        {
          "output_type": "stream",
          "text": [
            "#####train data#####\n"
          ],
          "name": "stdout"
        },
        {
          "output_type": "display_data",
          "data": {
            "text/html": [
              "<div>\n",
              "<style scoped>\n",
              "    .dataframe tbody tr th:only-of-type {\n",
              "        vertical-align: middle;\n",
              "    }\n",
              "\n",
              "    .dataframe tbody tr th {\n",
              "        vertical-align: top;\n",
              "    }\n",
              "\n",
              "    .dataframe thead th {\n",
              "        text-align: right;\n",
              "    }\n",
              "</style>\n",
              "<table border=\"1\" class=\"dataframe\">\n",
              "  <thead>\n",
              "    <tr style=\"text-align: right;\">\n",
              "      <th></th>\n",
              "      <th>train_id</th>\n",
              "      <th>name</th>\n",
              "      <th>item_condition_id</th>\n",
              "      <th>category_name</th>\n",
              "      <th>brand_name</th>\n",
              "      <th>price</th>\n",
              "      <th>shipping</th>\n",
              "      <th>item_description</th>\n",
              "    </tr>\n",
              "  </thead>\n",
              "  <tbody>\n",
              "    <tr>\n",
              "      <th>0</th>\n",
              "      <td>0</td>\n",
              "      <td>MLB Cincinnati Reds T Shirt Size XL</td>\n",
              "      <td>3</td>\n",
              "      <td>Men/Tops/T-shirts</td>\n",
              "      <td>NaN</td>\n",
              "      <td>10.00000</td>\n",
              "      <td>1</td>\n",
              "      <td>No description yet</td>\n",
              "    </tr>\n",
              "    <tr>\n",
              "      <th>1</th>\n",
              "      <td>1</td>\n",
              "      <td>Razer BlackWidow Chroma Keyboard</td>\n",
              "      <td>3</td>\n",
              "      <td>Electronics/Computers &amp; Tablets/Components &amp; P...</td>\n",
              "      <td>Razer</td>\n",
              "      <td>52.00000</td>\n",
              "      <td>0</td>\n",
              "      <td>This keyboard is in great condition and works ...</td>\n",
              "    </tr>\n",
              "    <tr>\n",
              "      <th>2</th>\n",
              "      <td>2</td>\n",
              "      <td>AVA-VIV Blouse</td>\n",
              "      <td>1</td>\n",
              "      <td>Women/Tops &amp; Blouses/Blouse</td>\n",
              "      <td>Target</td>\n",
              "      <td>10.00000</td>\n",
              "      <td>1</td>\n",
              "      <td>Adorable top with a hint of lace and a key hol...</td>\n",
              "    </tr>\n",
              "    <tr>\n",
              "      <th>3</th>\n",
              "      <td>3</td>\n",
              "      <td>Leather Horse Statues</td>\n",
              "      <td>1</td>\n",
              "      <td>Home/Home Décor/Home Décor Accents</td>\n",
              "      <td>NaN</td>\n",
              "      <td>35.00000</td>\n",
              "      <td>1</td>\n",
              "      <td>New with tags. Leather horses. Retail for [rm]...</td>\n",
              "    </tr>\n",
              "    <tr>\n",
              "      <th>4</th>\n",
              "      <td>4</td>\n",
              "      <td>24K GOLD plated rose</td>\n",
              "      <td>1</td>\n",
              "      <td>Women/Jewelry/Necklaces</td>\n",
              "      <td>NaN</td>\n",
              "      <td>44.00000</td>\n",
              "      <td>0</td>\n",
              "      <td>Complete with certificate of authenticity</td>\n",
              "    </tr>\n",
              "  </tbody>\n",
              "</table>\n",
              "</div>"
            ],
            "text/plain": [
              "   train_id  ...                                   item_description\n",
              "0         0  ...                                 No description yet\n",
              "1         1  ...  This keyboard is in great condition and works ...\n",
              "2         2  ...  Adorable top with a hint of lace and a key hol...\n",
              "3         3  ...  New with tags. Leather horses. Retail for [rm]...\n",
              "4         4  ...          Complete with certificate of authenticity\n",
              "\n",
              "[5 rows x 8 columns]"
            ]
          },
          "metadata": {
            "tags": []
          }
        },
        {
          "output_type": "stream",
          "text": [
            "#####test data#####\n"
          ],
          "name": "stdout"
        },
        {
          "output_type": "display_data",
          "data": {
            "text/html": [
              "<div>\n",
              "<style scoped>\n",
              "    .dataframe tbody tr th:only-of-type {\n",
              "        vertical-align: middle;\n",
              "    }\n",
              "\n",
              "    .dataframe tbody tr th {\n",
              "        vertical-align: top;\n",
              "    }\n",
              "\n",
              "    .dataframe thead th {\n",
              "        text-align: right;\n",
              "    }\n",
              "</style>\n",
              "<table border=\"1\" class=\"dataframe\">\n",
              "  <thead>\n",
              "    <tr style=\"text-align: right;\">\n",
              "      <th></th>\n",
              "      <th>test_id</th>\n",
              "      <th>name</th>\n",
              "      <th>item_condition_id</th>\n",
              "      <th>category_name</th>\n",
              "      <th>brand_name</th>\n",
              "      <th>shipping</th>\n",
              "      <th>item_description</th>\n",
              "    </tr>\n",
              "  </thead>\n",
              "  <tbody>\n",
              "    <tr>\n",
              "      <th>0</th>\n",
              "      <td>0</td>\n",
              "      <td>Breast cancer \"I fight like a girl\" ring</td>\n",
              "      <td>1</td>\n",
              "      <td>Women/Jewelry/Rings</td>\n",
              "      <td>NaN</td>\n",
              "      <td>1</td>\n",
              "      <td>Size 7</td>\n",
              "    </tr>\n",
              "    <tr>\n",
              "      <th>1</th>\n",
              "      <td>1</td>\n",
              "      <td>25 pcs NEW 7.5\"x12\" Kraft Bubble Mailers</td>\n",
              "      <td>1</td>\n",
              "      <td>Other/Office supplies/Shipping Supplies</td>\n",
              "      <td>NaN</td>\n",
              "      <td>1</td>\n",
              "      <td>25 pcs NEW 7.5\"x12\" Kraft Bubble Mailers Lined...</td>\n",
              "    </tr>\n",
              "    <tr>\n",
              "      <th>2</th>\n",
              "      <td>2</td>\n",
              "      <td>Coach bag</td>\n",
              "      <td>1</td>\n",
              "      <td>Vintage &amp; Collectibles/Bags and Purses/Handbag</td>\n",
              "      <td>Coach</td>\n",
              "      <td>1</td>\n",
              "      <td>Brand new coach bag. Bought for [rm] at a Coac...</td>\n",
              "    </tr>\n",
              "    <tr>\n",
              "      <th>3</th>\n",
              "      <td>3</td>\n",
              "      <td>Floral Kimono</td>\n",
              "      <td>2</td>\n",
              "      <td>Women/Sweaters/Cardigan</td>\n",
              "      <td>NaN</td>\n",
              "      <td>0</td>\n",
              "      <td>-floral kimono -never worn -lightweight and pe...</td>\n",
              "    </tr>\n",
              "    <tr>\n",
              "      <th>4</th>\n",
              "      <td>4</td>\n",
              "      <td>Life after Death</td>\n",
              "      <td>3</td>\n",
              "      <td>Other/Books/Religion &amp; Spirituality</td>\n",
              "      <td>NaN</td>\n",
              "      <td>1</td>\n",
              "      <td>Rediscovering life after the loss of a loved o...</td>\n",
              "    </tr>\n",
              "  </tbody>\n",
              "</table>\n",
              "</div>"
            ],
            "text/plain": [
              "   test_id  ...                                   item_description\n",
              "0        0  ...                                             Size 7\n",
              "1        1  ...  25 pcs NEW 7.5\"x12\" Kraft Bubble Mailers Lined...\n",
              "2        2  ...  Brand new coach bag. Bought for [rm] at a Coac...\n",
              "3        3  ...  -floral kimono -never worn -lightweight and pe...\n",
              "4        4  ...  Rediscovering life after the loss of a loved o...\n",
              "\n",
              "[5 rows x 7 columns]"
            ]
          },
          "metadata": {
            "tags": []
          }
        },
        {
          "output_type": "execute_result",
          "data": {
            "text/plain": [
              "((1482535, 8), (693359, 7))"
            ]
          },
          "metadata": {
            "tags": []
          },
          "execution_count": 5
        }
      ]
    },
    {
      "cell_type": "code",
      "metadata": {
        "id": "RmLmmtAGQNLl",
        "colab_type": "code",
        "outputId": "fb61fe28-2bab-463f-912f-8aec9fb974b6",
        "colab": {
          "base_uri": "https://localhost:8080/",
          "height": 385
        }
      },
      "source": [
        "def display_all(df):\n",
        "  with pd.option_context(\"display.max_rows\", 1000):\n",
        "    with pd.option_context(\"display.max_columns\", 1000):\n",
        "      display(df)\n",
        "# trainの基本統計量を表示\n",
        "display_all(train.describe(include='all').transpose())\n"
      ],
      "execution_count": 6,
      "outputs": [
        {
          "output_type": "display_data",
          "data": {
            "text/html": [
              "<div>\n",
              "<style scoped>\n",
              "    .dataframe tbody tr th:only-of-type {\n",
              "        vertical-align: middle;\n",
              "    }\n",
              "\n",
              "    .dataframe tbody tr th {\n",
              "        vertical-align: top;\n",
              "    }\n",
              "\n",
              "    .dataframe thead th {\n",
              "        text-align: right;\n",
              "    }\n",
              "</style>\n",
              "<table border=\"1\" class=\"dataframe\">\n",
              "  <thead>\n",
              "    <tr style=\"text-align: right;\">\n",
              "      <th></th>\n",
              "      <th>count</th>\n",
              "      <th>unique</th>\n",
              "      <th>top</th>\n",
              "      <th>freq</th>\n",
              "      <th>mean</th>\n",
              "      <th>std</th>\n",
              "      <th>min</th>\n",
              "      <th>25%</th>\n",
              "      <th>50%</th>\n",
              "      <th>75%</th>\n",
              "      <th>max</th>\n",
              "    </tr>\n",
              "  </thead>\n",
              "  <tbody>\n",
              "    <tr>\n",
              "      <th>train_id</th>\n",
              "      <td>1482535.00000</td>\n",
              "      <td>NaN</td>\n",
              "      <td>NaN</td>\n",
              "      <td>NaN</td>\n",
              "      <td>741267.00000</td>\n",
              "      <td>427971.13500</td>\n",
              "      <td>0.00000</td>\n",
              "      <td>370633.50000</td>\n",
              "      <td>741267.00000</td>\n",
              "      <td>1111900.50000</td>\n",
              "      <td>1482534.00000</td>\n",
              "    </tr>\n",
              "    <tr>\n",
              "      <th>name</th>\n",
              "      <td>1482535</td>\n",
              "      <td>1225273</td>\n",
              "      <td>Bundle</td>\n",
              "      <td>2232</td>\n",
              "      <td>NaN</td>\n",
              "      <td>NaN</td>\n",
              "      <td>NaN</td>\n",
              "      <td>NaN</td>\n",
              "      <td>NaN</td>\n",
              "      <td>NaN</td>\n",
              "      <td>NaN</td>\n",
              "    </tr>\n",
              "    <tr>\n",
              "      <th>item_condition_id</th>\n",
              "      <td>1482535.00000</td>\n",
              "      <td>NaN</td>\n",
              "      <td>NaN</td>\n",
              "      <td>NaN</td>\n",
              "      <td>1.90738</td>\n",
              "      <td>0.90316</td>\n",
              "      <td>1.00000</td>\n",
              "      <td>1.00000</td>\n",
              "      <td>2.00000</td>\n",
              "      <td>3.00000</td>\n",
              "      <td>5.00000</td>\n",
              "    </tr>\n",
              "    <tr>\n",
              "      <th>category_name</th>\n",
              "      <td>1476208</td>\n",
              "      <td>1287</td>\n",
              "      <td>Women/Athletic Apparel/Pants, Tights, Leggings</td>\n",
              "      <td>60177</td>\n",
              "      <td>NaN</td>\n",
              "      <td>NaN</td>\n",
              "      <td>NaN</td>\n",
              "      <td>NaN</td>\n",
              "      <td>NaN</td>\n",
              "      <td>NaN</td>\n",
              "      <td>NaN</td>\n",
              "    </tr>\n",
              "    <tr>\n",
              "      <th>brand_name</th>\n",
              "      <td>849853</td>\n",
              "      <td>4809</td>\n",
              "      <td>PINK</td>\n",
              "      <td>54088</td>\n",
              "      <td>NaN</td>\n",
              "      <td>NaN</td>\n",
              "      <td>NaN</td>\n",
              "      <td>NaN</td>\n",
              "      <td>NaN</td>\n",
              "      <td>NaN</td>\n",
              "      <td>NaN</td>\n",
              "    </tr>\n",
              "    <tr>\n",
              "      <th>price</th>\n",
              "      <td>1482535.00000</td>\n",
              "      <td>NaN</td>\n",
              "      <td>NaN</td>\n",
              "      <td>NaN</td>\n",
              "      <td>26.73752</td>\n",
              "      <td>38.58607</td>\n",
              "      <td>0.00000</td>\n",
              "      <td>10.00000</td>\n",
              "      <td>17.00000</td>\n",
              "      <td>29.00000</td>\n",
              "      <td>2009.00000</td>\n",
              "    </tr>\n",
              "    <tr>\n",
              "      <th>shipping</th>\n",
              "      <td>1482535.00000</td>\n",
              "      <td>NaN</td>\n",
              "      <td>NaN</td>\n",
              "      <td>NaN</td>\n",
              "      <td>0.44727</td>\n",
              "      <td>0.49721</td>\n",
              "      <td>0.00000</td>\n",
              "      <td>0.00000</td>\n",
              "      <td>0.00000</td>\n",
              "      <td>1.00000</td>\n",
              "      <td>1.00000</td>\n",
              "    </tr>\n",
              "    <tr>\n",
              "      <th>item_description</th>\n",
              "      <td>1482531</td>\n",
              "      <td>1281426</td>\n",
              "      <td>No description yet</td>\n",
              "      <td>82489</td>\n",
              "      <td>NaN</td>\n",
              "      <td>NaN</td>\n",
              "      <td>NaN</td>\n",
              "      <td>NaN</td>\n",
              "      <td>NaN</td>\n",
              "      <td>NaN</td>\n",
              "      <td>NaN</td>\n",
              "    </tr>\n",
              "  </tbody>\n",
              "</table>\n",
              "</div>"
            ],
            "text/plain": [
              "                          count   unique  \\\n",
              "train_id          1482535.00000      NaN   \n",
              "name                    1482535  1225273   \n",
              "item_condition_id 1482535.00000      NaN   \n",
              "category_name           1476208     1287   \n",
              "brand_name               849853     4809   \n",
              "price             1482535.00000      NaN   \n",
              "shipping          1482535.00000      NaN   \n",
              "item_description        1482531  1281426   \n",
              "\n",
              "                                                              top   freq  \\\n",
              "train_id                                                      NaN    NaN   \n",
              "name                                                       Bundle   2232   \n",
              "item_condition_id                                             NaN    NaN   \n",
              "category_name      Women/Athletic Apparel/Pants, Tights, Leggings  60177   \n",
              "brand_name                                                   PINK  54088   \n",
              "price                                                         NaN    NaN   \n",
              "shipping                                                      NaN    NaN   \n",
              "item_description                               No description yet  82489   \n",
              "\n",
              "                          mean          std     min          25%          50%  \\\n",
              "train_id          741267.00000 427971.13500 0.00000 370633.50000 741267.00000   \n",
              "name                       NaN          NaN     NaN          NaN          NaN   \n",
              "item_condition_id      1.90738      0.90316 1.00000      1.00000      2.00000   \n",
              "category_name              NaN          NaN     NaN          NaN          NaN   \n",
              "brand_name                 NaN          NaN     NaN          NaN          NaN   \n",
              "price                 26.73752     38.58607 0.00000     10.00000     17.00000   \n",
              "shipping               0.44727      0.49721 0.00000      0.00000      0.00000   \n",
              "item_description           NaN          NaN     NaN          NaN          NaN   \n",
              "\n",
              "                            75%           max  \n",
              "train_id          1111900.50000 1482534.00000  \n",
              "name                        NaN           NaN  \n",
              "item_condition_id       3.00000       5.00000  \n",
              "category_name               NaN           NaN  \n",
              "brand_name                  NaN           NaN  \n",
              "price                  29.00000    2009.00000  \n",
              "shipping                1.00000       1.00000  \n",
              "item_description            NaN           NaN  "
            ]
          },
          "metadata": {
            "tags": []
          }
        }
      ]
    },
    {
      "cell_type": "code",
      "metadata": {
        "id": "PyA4dZjLQhwt",
        "colab_type": "code",
        "outputId": "2a420ab3-dd03-4724-c614-c4557f4f037c",
        "colab": {
          "base_uri": "https://localhost:8080/",
          "height": 289
        }
      },
      "source": [
        "# trainのカテゴリ名、商品説明、投稿タイトル、ブランド名のデータタイプを「category」へ変換する\n",
        "train.category_name = train.category_name.astype('category')\n",
        "train.item_description = train.item_description.astype('category')\n",
        "train.name = train.name.astype('category')\n",
        "train.brand_name = train.brand_name.astype('category')\n",
        "# testのカテゴリ名、商品説明、投稿タイトル、ブランド名のデータタイプを「category」へ変換する\n",
        "test.category_name = test.category_name.astype('category')\n",
        "test.item_description = test.item_description.astype('category')\n",
        "test.name = test.name.astype('category')\n",
        "test.brand_name = test.brand_name.astype('category')\n",
        "# dtypesで念のためデータ形式を確認しましょう\n",
        "train.dtypes, test.dtypes\n"
      ],
      "execution_count": 7,
      "outputs": [
        {
          "output_type": "execute_result",
          "data": {
            "text/plain": [
              "(train_id                int64\n",
              " name                 category\n",
              " item_condition_id        int8\n",
              " category_name        category\n",
              " brand_name           category\n",
              " price                 float64\n",
              " shipping                 int8\n",
              " item_description     category\n",
              " dtype: object, test_id                 int64\n",
              " name                 category\n",
              " item_condition_id        int8\n",
              " category_name        category\n",
              " brand_name           category\n",
              " shipping                 int8\n",
              " item_description     category\n",
              " dtype: object)"
            ]
          },
          "metadata": {
            "tags": []
          },
          "execution_count": 7
        }
      ]
    },
    {
      "cell_type": "code",
      "metadata": {
        "id": "O9BWhEegRBUc",
        "colab_type": "code",
        "outputId": "a7c23639-e919-4e6f-92a2-2f7e62276587",
        "colab": {
          "base_uri": "https://localhost:8080/",
          "height": 153
        }
      },
      "source": [
        "# trainの中のユニークな値を確認する\n",
        "train.apply(lambda x: x.nunique())\n",
        "# testの中のユニークな値を確認する\n",
        "test.apply(lambda x: x.nunique())\n"
      ],
      "execution_count": 8,
      "outputs": [
        {
          "output_type": "execute_result",
          "data": {
            "text/plain": [
              "test_id              693359\n",
              "name                 601117\n",
              "item_condition_id         5\n",
              "category_name          1223\n",
              "brand_name             3900\n",
              "shipping                  2\n",
              "item_description     609555\n",
              "dtype: int64"
            ]
          },
          "metadata": {
            "tags": []
          },
          "execution_count": 8
        }
      ]
    },
    {
      "cell_type": "code",
      "metadata": {
        "id": "cn7uQc1ZSOLf",
        "colab_type": "code",
        "outputId": "0b0a74a9-6a1a-404d-ef13-4ee8f26eaf70",
        "colab": {
          "base_uri": "https://localhost:8080/",
          "height": 629
        }
      },
      "source": [
        "# trainの欠損データの個数と%を確認\n",
        "print('#' * 5 + 'traint' + '#' * 5)\n",
        "display(train.isnull().sum(),train.isnull().sum()/train.shape[0])\n",
        "# testの欠損データの個数と%を確認\n",
        "print('#' * 5 + 'test' + '#' * 5)\n",
        "display(test.isnull().sum(),test.isnull().sum()/test.shape[0])\n"
      ],
      "execution_count": 9,
      "outputs": [
        {
          "output_type": "stream",
          "text": [
            "#####traint#####\n"
          ],
          "name": "stdout"
        },
        {
          "output_type": "display_data",
          "data": {
            "text/plain": [
              "train_id                  0\n",
              "name                      0\n",
              "item_condition_id         0\n",
              "category_name          6327\n",
              "brand_name           632682\n",
              "price                     0\n",
              "shipping                  0\n",
              "item_description          4\n",
              "dtype: int64"
            ]
          },
          "metadata": {
            "tags": []
          }
        },
        {
          "output_type": "display_data",
          "data": {
            "text/plain": [
              "train_id            0.00000\n",
              "name                0.00000\n",
              "item_condition_id   0.00000\n",
              "category_name       0.00427\n",
              "brand_name          0.42676\n",
              "price               0.00000\n",
              "shipping            0.00000\n",
              "item_description    0.00000\n",
              "dtype: float64"
            ]
          },
          "metadata": {
            "tags": []
          }
        },
        {
          "output_type": "stream",
          "text": [
            "#####test#####\n"
          ],
          "name": "stdout"
        },
        {
          "output_type": "display_data",
          "data": {
            "text/plain": [
              "test_id                   0\n",
              "name                      0\n",
              "item_condition_id         0\n",
              "category_name          3058\n",
              "brand_name           295525\n",
              "shipping                  0\n",
              "item_description          0\n",
              "dtype: int64"
            ]
          },
          "metadata": {
            "tags": []
          }
        },
        {
          "output_type": "display_data",
          "data": {
            "text/plain": [
              "test_id             0.00000\n",
              "name                0.00000\n",
              "item_condition_id   0.00000\n",
              "category_name       0.00441\n",
              "brand_name          0.42622\n",
              "shipping            0.00000\n",
              "item_description    0.00000\n",
              "dtype: float64"
            ]
          },
          "metadata": {
            "tags": []
          }
        }
      ]
    },
    {
      "cell_type": "code",
      "metadata": {
        "id": "efUwpt7USYP-",
        "colab_type": "code",
        "outputId": "89ea73d5-9dba-4fa5-82ca-e5fd050bcfcf",
        "colab": {
          "base_uri": "https://localhost:8080/",
          "height": 428
        }
      },
      "source": [
        "# trainとtestのidカラム名を変更する\n",
        "train = train.rename(columns = {'train_id':'id'})\n",
        "test = test.rename(columns = {'test_id':'id'})\n",
        "# 両方のセットへ「is_train」のカラムを追加\n",
        "# 1 = trainのデータ、0 = testデータ\n",
        "train['is_train'] = 1\n",
        "test['is_train'] = 0\n",
        "# trainのprice(価格）以外のデータをtestと連結\n",
        "train_test_combine = pd.concat([train.drop(['price'], axis=1),test],axis=0)\n",
        "# 念のためデータの中身を表示させましょう\n",
        "train_test_combine.head()\n"
      ],
      "execution_count": 10,
      "outputs": [
        {
          "output_type": "execute_result",
          "data": {
            "text/html": [
              "<div>\n",
              "<style scoped>\n",
              "    .dataframe tbody tr th:only-of-type {\n",
              "        vertical-align: middle;\n",
              "    }\n",
              "\n",
              "    .dataframe tbody tr th {\n",
              "        vertical-align: top;\n",
              "    }\n",
              "\n",
              "    .dataframe thead th {\n",
              "        text-align: right;\n",
              "    }\n",
              "</style>\n",
              "<table border=\"1\" class=\"dataframe\">\n",
              "  <thead>\n",
              "    <tr style=\"text-align: right;\">\n",
              "      <th></th>\n",
              "      <th>id</th>\n",
              "      <th>name</th>\n",
              "      <th>item_condition_id</th>\n",
              "      <th>category_name</th>\n",
              "      <th>brand_name</th>\n",
              "      <th>shipping</th>\n",
              "      <th>item_description</th>\n",
              "      <th>is_train</th>\n",
              "    </tr>\n",
              "  </thead>\n",
              "  <tbody>\n",
              "    <tr>\n",
              "      <th>0</th>\n",
              "      <td>0</td>\n",
              "      <td>MLB Cincinnati Reds T Shirt Size XL</td>\n",
              "      <td>3</td>\n",
              "      <td>Men/Tops/T-shirts</td>\n",
              "      <td>NaN</td>\n",
              "      <td>1</td>\n",
              "      <td>No description yet</td>\n",
              "      <td>1</td>\n",
              "    </tr>\n",
              "    <tr>\n",
              "      <th>1</th>\n",
              "      <td>1</td>\n",
              "      <td>Razer BlackWidow Chroma Keyboard</td>\n",
              "      <td>3</td>\n",
              "      <td>Electronics/Computers &amp; Tablets/Components &amp; P...</td>\n",
              "      <td>Razer</td>\n",
              "      <td>0</td>\n",
              "      <td>This keyboard is in great condition and works ...</td>\n",
              "      <td>1</td>\n",
              "    </tr>\n",
              "    <tr>\n",
              "      <th>2</th>\n",
              "      <td>2</td>\n",
              "      <td>AVA-VIV Blouse</td>\n",
              "      <td>1</td>\n",
              "      <td>Women/Tops &amp; Blouses/Blouse</td>\n",
              "      <td>Target</td>\n",
              "      <td>1</td>\n",
              "      <td>Adorable top with a hint of lace and a key hol...</td>\n",
              "      <td>1</td>\n",
              "    </tr>\n",
              "    <tr>\n",
              "      <th>3</th>\n",
              "      <td>3</td>\n",
              "      <td>Leather Horse Statues</td>\n",
              "      <td>1</td>\n",
              "      <td>Home/Home Décor/Home Décor Accents</td>\n",
              "      <td>NaN</td>\n",
              "      <td>1</td>\n",
              "      <td>New with tags. Leather horses. Retail for [rm]...</td>\n",
              "      <td>1</td>\n",
              "    </tr>\n",
              "    <tr>\n",
              "      <th>4</th>\n",
              "      <td>4</td>\n",
              "      <td>24K GOLD plated rose</td>\n",
              "      <td>1</td>\n",
              "      <td>Women/Jewelry/Necklaces</td>\n",
              "      <td>NaN</td>\n",
              "      <td>0</td>\n",
              "      <td>Complete with certificate of authenticity</td>\n",
              "      <td>1</td>\n",
              "    </tr>\n",
              "  </tbody>\n",
              "</table>\n",
              "</div>"
            ],
            "text/plain": [
              "   id  ... is_train\n",
              "0   0  ...        1\n",
              "1   1  ...        1\n",
              "2   2  ...        1\n",
              "3   3  ...        1\n",
              "4   4  ...        1\n",
              "\n",
              "[5 rows x 8 columns]"
            ]
          },
          "metadata": {
            "tags": []
          },
          "execution_count": 10
        }
      ]
    },
    {
      "cell_type": "code",
      "metadata": {
        "id": "8_uwZySRddqE",
        "colab_type": "code",
        "outputId": "adebe1fd-7ac8-4820-b9f4-f6b8baf90109",
        "colab": {
          "base_uri": "https://localhost:8080/",
          "height": 170
        }
      },
      "source": [
        "# train_test_combineの文字列のデータタイプを「category」へ変換\n",
        "train_test_combine.category_name = train_test_combine.category_name.astype('category')\n",
        "train_test_combine.item_description = train_test_combine.item_description.astype('category')\n",
        "train_test_combine.name = train_test_combine.name.astype('category')\n",
        "train_test_combine.brand_name = train_test_combine.brand_name.astype('category')\n",
        "# combinedDataの文字列を「.cat.codes」で数値へ変換する\n",
        "train_test_combine.name = train_test_combine.name.cat.codes\n",
        "train_test_combine.category_name = train_test_combine.category_name.cat.codes\n",
        "train_test_combine.brand_name = train_test_combine.brand_name.cat.codes\n",
        "train_test_combine.item_description = train_test_combine.item_description.cat.codes\n",
        "# データの中身とデータ形式を表示して確認しましょう\n",
        "train_test_combine.head()\n",
        "train_test_combine.dtypes\n"
      ],
      "execution_count": 11,
      "outputs": [
        {
          "output_type": "execute_result",
          "data": {
            "text/plain": [
              "id                   int64\n",
              "name                 int32\n",
              "item_condition_id     int8\n",
              "category_name        int16\n",
              "brand_name           int16\n",
              "shipping              int8\n",
              "item_description     int32\n",
              "is_train             int64\n",
              "dtype: object"
            ]
          },
          "metadata": {
            "tags": []
          },
          "execution_count": 11
        }
      ]
    },
    {
      "cell_type": "code",
      "metadata": {
        "id": "5maLli3vfirH",
        "colab_type": "code",
        "outputId": "00c6a40b-7c22-4bd6-f494-9217eb25da5e",
        "colab": {
          "base_uri": "https://localhost:8080/",
          "height": 34
        }
      },
      "source": [
        "# 「is_train」のフラグでcombineからtestとtrainへ切り分ける\n",
        "df_test = train_test_combine.loc[train_test_combine['is_train'] == 0]\n",
        "df_train = train_test_combine.loc[train_test_combine['is_train'] == 1]\n",
        "# 「is_train」をtrainとtestのデータフレームから落とす\n",
        "df_test = df_test.drop(['is_train'], axis=1)\n",
        "df_train = df_train.drop(['is_train'], axis=1)\n",
        "# サイズの確認をしておきましょう\n",
        "df_test.shape, df_train.shape\n",
        "((693359, 7), (1482535, 7))\n"
      ],
      "execution_count": 12,
      "outputs": [
        {
          "output_type": "execute_result",
          "data": {
            "text/plain": [
              "((693359, 7), (1482535, 7))"
            ]
          },
          "metadata": {
            "tags": []
          },
          "execution_count": 12
        }
      ]
    },
    {
      "cell_type": "code",
      "metadata": {
        "id": "iqCKcG8BgA8b",
        "colab_type": "code",
        "outputId": "500d9338-6a6f-44ec-9358-f9e172d7dfc3",
        "colab": {
          "base_uri": "https://localhost:8080/",
          "height": 224
        }
      },
      "source": [
        "# df_trainへprice（価格）を戻す\n",
        "df_train['price'] = train.price\n",
        "# price（価格）をlog関数で処理\n",
        "df_train['price'] = df_train['price'].apply(lambda x: np.log(x) if x>0 else x)\n",
        "# df_trainを表示して確認\n",
        "df_train.head()\n"
      ],
      "execution_count": 13,
      "outputs": [
        {
          "output_type": "execute_result",
          "data": {
            "text/html": [
              "<div>\n",
              "<style scoped>\n",
              "    .dataframe tbody tr th:only-of-type {\n",
              "        vertical-align: middle;\n",
              "    }\n",
              "\n",
              "    .dataframe tbody tr th {\n",
              "        vertical-align: top;\n",
              "    }\n",
              "\n",
              "    .dataframe thead th {\n",
              "        text-align: right;\n",
              "    }\n",
              "</style>\n",
              "<table border=\"1\" class=\"dataframe\">\n",
              "  <thead>\n",
              "    <tr style=\"text-align: right;\">\n",
              "      <th></th>\n",
              "      <th>id</th>\n",
              "      <th>name</th>\n",
              "      <th>item_condition_id</th>\n",
              "      <th>category_name</th>\n",
              "      <th>brand_name</th>\n",
              "      <th>shipping</th>\n",
              "      <th>item_description</th>\n",
              "      <th>price</th>\n",
              "    </tr>\n",
              "  </thead>\n",
              "  <tbody>\n",
              "    <tr>\n",
              "      <th>0</th>\n",
              "      <td>0</td>\n",
              "      <td>916335</td>\n",
              "      <td>3</td>\n",
              "      <td>829</td>\n",
              "      <td>-1</td>\n",
              "      <td>1</td>\n",
              "      <td>1172053</td>\n",
              "      <td>2.30259</td>\n",
              "    </tr>\n",
              "    <tr>\n",
              "      <th>1</th>\n",
              "      <td>1</td>\n",
              "      <td>1292428</td>\n",
              "      <td>3</td>\n",
              "      <td>86</td>\n",
              "      <td>3889</td>\n",
              "      <td>0</td>\n",
              "      <td>1585539</td>\n",
              "      <td>3.95124</td>\n",
              "    </tr>\n",
              "    <tr>\n",
              "      <th>2</th>\n",
              "      <td>2</td>\n",
              "      <td>131013</td>\n",
              "      <td>1</td>\n",
              "      <td>1277</td>\n",
              "      <td>4588</td>\n",
              "      <td>1</td>\n",
              "      <td>167133</td>\n",
              "      <td>2.30259</td>\n",
              "    </tr>\n",
              "    <tr>\n",
              "      <th>3</th>\n",
              "      <td>3</td>\n",
              "      <td>802671</td>\n",
              "      <td>1</td>\n",
              "      <td>503</td>\n",
              "      <td>-1</td>\n",
              "      <td>1</td>\n",
              "      <td>1136643</td>\n",
              "      <td>3.55535</td>\n",
              "    </tr>\n",
              "    <tr>\n",
              "      <th>4</th>\n",
              "      <td>4</td>\n",
              "      <td>65051</td>\n",
              "      <td>1</td>\n",
              "      <td>1204</td>\n",
              "      <td>-1</td>\n",
              "      <td>0</td>\n",
              "      <td>531909</td>\n",
              "      <td>3.78419</td>\n",
              "    </tr>\n",
              "  </tbody>\n",
              "</table>\n",
              "</div>"
            ],
            "text/plain": [
              "   id     name  item_condition_id  ...  shipping  item_description   price\n",
              "0   0   916335                  3  ...         1           1172053 2.30259\n",
              "1   1  1292428                  3  ...         0           1585539 3.95124\n",
              "2   2   131013                  1  ...         1            167133 2.30259\n",
              "3   3   802671                  1  ...         1           1136643 3.55535\n",
              "4   4    65051                  1  ...         0            531909 3.78419\n",
              "\n",
              "[5 rows x 8 columns]"
            ]
          },
          "metadata": {
            "tags": []
          },
          "execution_count": 13
        }
      ]
    },
    {
      "cell_type": "code",
      "metadata": {
        "id": "uFCbnsNKgKaq",
        "colab_type": "code",
        "outputId": "611e55ba-5091-47e9-a943-f22d02811f3f",
        "colab": {
          "base_uri": "https://localhost:8080/",
          "height": 35
        }
      },
      "source": [
        "# x ＝ price以外の全ての値、y = price（ターゲット）で切り分ける\n",
        "x_train, y_train = df_train.drop(['price'], axis=1), df_train.price\n",
        "# モデルの作成\n",
        "m = RandomForestRegressor(n_jobs=-1, min_samples_leaf=5, n_estimators=200)\n",
        "m.fit(x_train, y_train)\n",
        "# スコアを表示\n",
        "m.score(x_train, y_train)\n"
      ],
      "execution_count": 0,
      "outputs": [
        {
          "output_type": "execute_result",
          "data": {
            "text/plain": [
              "0.7401875966266047"
            ]
          },
          "metadata": {
            "tags": []
          },
          "execution_count": 18
        }
      ]
    },
    {
      "cell_type": "code",
      "metadata": {
        "id": "JZ958_ZWgf_k",
        "colab_type": "code",
        "colab": {}
      },
      "source": [
        "# 作成したランダムフォレストのモデル「m」に「df_test」を入れて予測する\n",
        "preds = m.predict(df_test)\n",
        "# 予測値 predsをnp.exp()で処理\n",
        "np.exp(preds)\n",
        "# Numpy配列からpandasシリーズへ変換\n",
        "preds = pd.Series(np.exp(preds))\n",
        "# テストデータのIDと予測値を連結\n",
        "submit = pd.concat([df_test.id, preds], axis=1)\n",
        "# カラム名をメルカリの提出指定の名前をつける\n",
        "submit.columns = ['test_id', 'price']\n",
        "# 提出ファイルとしてCSVへ書き出し\n",
        "submit.to_csv('submit_rf_base.csv', index=False)\n"
      ],
      "execution_count": 0,
      "outputs": []
    },
    {
      "cell_type": "code",
      "metadata": {
        "id": "rSsOv0altdRD",
        "colab_type": "code",
        "outputId": "3eeb4923-a05e-4321-ec93-d5090bd40b03",
        "colab": {
          "base_uri": "https://localhost:8080/",
          "height": 242
        }
      },
      "source": [
        "parameters = {\n",
        "        'n_estimators'      : [10,25,50,75,100],\n",
        "        'random_state'      : [0],\n",
        "        'n_jobs'            : [4],\n",
        "        'min_samples_split' : [5,10, 15, 20,25, 30],\n",
        "        'max_depth'         : [5, 10, 15,20,25,30]\n",
        "}\n",
        "\n",
        "clf = grid_search.GridSearchCV(RandomForestClassifier(), parameters)\n",
        "clf.fit(xs, y)\n",
        " \n",
        "print(clf.best_estimator_)"
      ],
      "execution_count": 0,
      "outputs": [
        {
          "output_type": "error",
          "ename": "NameError",
          "evalue": "ignored",
          "traceback": [
            "\u001b[0;31m---------------------------------------------------------------------------\u001b[0m",
            "\u001b[0;31mNameError\u001b[0m                                 Traceback (most recent call last)",
            "\u001b[0;32m<ipython-input-20-b2b693238474>\u001b[0m in \u001b[0;36m<module>\u001b[0;34m()\u001b[0m\n\u001b[1;32m      7\u001b[0m }\n\u001b[1;32m      8\u001b[0m \u001b[0;34m\u001b[0m\u001b[0m\n\u001b[0;32m----> 9\u001b[0;31m \u001b[0mclf\u001b[0m \u001b[0;34m=\u001b[0m \u001b[0mgrid_search\u001b[0m\u001b[0;34m.\u001b[0m\u001b[0mGridSearchCV\u001b[0m\u001b[0;34m(\u001b[0m\u001b[0mRandomForestClassifier\u001b[0m\u001b[0;34m(\u001b[0m\u001b[0;34m)\u001b[0m\u001b[0;34m,\u001b[0m \u001b[0mparameters\u001b[0m\u001b[0;34m)\u001b[0m\u001b[0;34m\u001b[0m\u001b[0;34m\u001b[0m\u001b[0m\n\u001b[0m\u001b[1;32m     10\u001b[0m \u001b[0mclf\u001b[0m\u001b[0;34m.\u001b[0m\u001b[0mfit\u001b[0m\u001b[0;34m(\u001b[0m\u001b[0mxs\u001b[0m\u001b[0;34m,\u001b[0m \u001b[0my\u001b[0m\u001b[0;34m)\u001b[0m\u001b[0;34m\u001b[0m\u001b[0;34m\u001b[0m\u001b[0m\n\u001b[1;32m     11\u001b[0m \u001b[0;34m\u001b[0m\u001b[0m\n",
            "\u001b[0;31mNameError\u001b[0m: name 'grid_search' is not defined"
          ]
        }
      ]
    },
    {
      "cell_type": "code",
      "metadata": {
        "id": "ut5inaJ9vRYc",
        "colab_type": "code",
        "colab": {}
      },
      "source": [
        "x_train, y_train = df_train.drop('price', axis=1), df_train.price\n",
        "\n",
        "from sklearn.ensemble import RandomForestClassifier\n",
        "from sklearn.model_selection import GridSearchCV\n",
        "\n",
        "parameters = {\n",
        "        'n_estimators'      : [10,25,50,75,100],\n",
        "        'random_state'      : [0],\n",
        "        'n_jobs'            : [4],\n",
        "        'min_samples_split' : [5,10, 15, 20,25, 30],\n",
        "        'max_depth'         : [5, 10, 15,20,25,30]\n",
        "}\n",
        "\n",
        "clf = GridSearchCV(RandomForestRegressor(), parameters)\n",
        "clf.fit(x_train, y_train)\n",
        " \n",
        "print(clf.best_estimator_)\n"
      ],
      "execution_count": 0,
      "outputs": []
    }
  ]
}